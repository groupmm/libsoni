{
 "cells": [
  {
   "cell_type": "markdown",
   "id": "bd0baf29",
   "metadata": {},
   "source": [
    "# Sonification of Spectograms\n",
    "Within this notebook, we explain how ```libsoni.core.spectrogram``` can be used to sonify spectrograms."
   ]
  },
  {
   "cell_type": "code",
   "execution_count": null,
   "id": "3d488d70",
   "metadata": {
    "pycharm": {
     "is_executing": true
    }
   },
   "outputs": [],
   "source": [
    "import librosa.display\n",
    "import numpy as np\n",
    "import os\n",
    "from IPython import display as ipd\n",
    "import matplotlib.pyplot as plt\n",
    "import libfmp\n",
    "\n",
    "from libsoni.core.spectrogram import sonify_spectrogram_multi\n",
    "%matplotlib inline\n",
    "\n",
    "Fs = 22050\n",
    "N = 4096\n",
    "H = 2048"
   ]
  },
  {
   "cell_type": "markdown",
   "id": "ca2c4487",
   "metadata": {},
   "source": [
    "## Simple Scenario\n",
    "To make the use of the module ```libsoni.core.spectrogram``` clear with a simple example, let's first assume a spectogram like an image. The vertical axis is attributed to frequency in conventional formats, while the horizontal axis represents time. Let's say we want to create an image for a C major scale. For this we need a frequency axis that keeps the frequencies of the notes of a C major scale"
   ]
  },
  {
   "cell_type": "code",
   "execution_count": null,
   "id": "0d503155",
   "metadata": {},
   "outputs": [],
   "source": [
    "c_major_pitch_frequencies = [261.63, 293.66, 329.63, 349.23, 392.00, 440.00, 493.88, 523.25]\n",
    "c_major_pitches = ['C4', 'D4', 'E4', 'F4', 'G4', 'A4', 'B4', 'C5']\n",
    "\n",
    "times = np.arange(8)\n",
    "image = np.zeros((len(c_major_pitch_frequencies), len(times)))\n",
    "\n",
    "for i in range(image.shape[0]):\n",
    "    image[i,i]=1 \n",
    "    \n",
    "plt.figure(figsize=(6,3))\n",
    "\n",
    "ax = plt.gca();\n",
    "\n",
    "ax.set_xticks(np.arange(-0.5, 7, 1), minor=True)\n",
    "\n",
    "ax.set_yticks(np.arange(-0.5, 7, 1), minor=True)\n",
    "ax.tick_params(which='minor', left=False)\n",
    "\n",
    "plt.grid(which='minor', linestyle='-')\n",
    "\n",
    "\n",
    "ax.set_yticks(np.arange(0, 8, 1), labels=c_major_pitches, minor=False)\n",
    "ax.set_xticks(np.arange(-0.5, 7, 1), times, minor=False)\n",
    "\n",
    "plt.xlabel('Time (in seconds)')\n",
    "\n",
    "plt.imshow(image, cmap='gray_r', aspect='auto', origin='lower')\n",
    "x = sonify_spectrogram_multi(image, c_major_pitch_frequencies, times, num_processes = 4)\n",
    "ipd.display(ipd.Audio(x, rate=Fs))"
   ]
  },
  {
   "cell_type": "markdown",
   "id": "b5b16bce",
   "metadata": {},
   "source": [
    "## Running Example:  *Frühlingstraum* by *Franz Schubert*\n",
    "<img src=\"figures/demo_spectrum/Schubert_D911-11_score.png\" alt=\"Gute Nacht\" width=\"600\">"
   ]
  },
  {
   "cell_type": "code",
   "execution_count": null,
   "id": "b14bd983",
   "metadata": {},
   "outputs": [],
   "source": [
    "fn_wav = os.path.join('data_audio','demo_spectrum','FMP_B_Sonify_Pitch_Schubert_D911-11_SC06.wav')\n",
    "Fs = 22050\n",
    "\n",
    "x, Fs = librosa.load(fn_wav, sr=Fs)\n",
    "print('Frühlingstraum by Franz Schubert:')\n",
    "ipd.display(ipd.Audio(x, rate=Fs))"
   ]
  },
  {
   "cell_type": "markdown",
   "id": "9915b4d8",
   "metadata": {},
   "source": [
    "## Scenario: STFT\n",
    "To start with a simple example, we create a sound using ```libsoni.core.methods``` and calculate its STFT."
   ]
  },
  {
   "cell_type": "code",
   "execution_count": null,
   "id": "34bb0e20",
   "metadata": {},
   "outputs": [],
   "source": [
    "X = np.abs(librosa.stft(x, n_fft=N, hop_length=H, win_length=N, window='hann', pad_mode='constant', center=True))\n",
    "\n",
    "T_coef = np.arange(X.shape[1]) * H / Fs\n",
    "F_coef = np.arange(N // 2 +1) * Fs / N\n",
    "\n",
    "plt.figure(figsize=(6, 3))\n",
    "extent = [T_coef[0], T_coef[-1], F_coef[0], F_coef[-1]]\n",
    "plt.imshow(np.log(1+5*X), cmap='gray_r', aspect='auto', origin='lower', extent=extent)\n",
    "plt.xlabel('Time (seconds)')\n",
    "plt.ylabel('Frequency (Hz)')\n",
    "plt.colorbar()\n",
    "plt.tight_layout()\n",
    "plt.show()\n",
    "\n",
    "x_resynthesized = sonify_spectrogram_multi(X, F_coef, T_coef, num_processes = 4)\n",
    "print('Sonified STFT:')\n",
    "ipd.display(ipd.Audio(x_resynthesized, rate = Fs))"
   ]
  },
  {
   "cell_type": "markdown",
   "id": "c8675133",
   "metadata": {},
   "source": [
    "## Scenario: CQT"
   ]
  },
  {
   "cell_type": "code",
   "execution_count": null,
   "id": "55f32c47",
   "metadata": {},
   "outputs": [],
   "source": [
    "# Log-frequency spectrogrm from audio recording\n",
    "X_CQT = np.abs(librosa.cqt(y=x, sr=Fs, hop_length=H, n_bins=84, bins_per_octave=12, norm=1))\n",
    "\n",
    "\n",
    "frequencies = [440 * (2 ** ((midi_pitch - 69) / 12)) for midi_pitch in range(24, 24+84)]\n",
    "times = np.arange(X_CQT.shape[1]) * H / Fs\n",
    "\n",
    "\n",
    "\n",
    "Fs_frame = Fs / H\n",
    "\n",
    "title='Log-frequency spectrogram (Fs_frame = %.3f)' % Fs_frame\n",
    "\n",
    "libfmp.b.plot_matrix(X_CQT, Fs=Fs_frame, ylabel='MIDI pitch number',\n",
    "                     title=title, figsize=(8, 4))\n",
    "plt.ylim([36, 84])\n",
    "plt.show()\n",
    "\n",
    "\n",
    "x_resynthesized = sonify_spectrogram_multi(X_CQT, frequencies, times, num_processes = 4)\n",
    "print('Sonified CQT:')\n",
    "ipd.display(ipd.Audio(x_resynthesized, rate=Fs))"
   ]
  },
  {
   "cell_type": "markdown",
   "id": "0740d221",
   "metadata": {},
   "source": [
    "## Scenario: Mel-Spectrum"
   ]
  },
  {
   "cell_type": "code",
   "execution_count": null,
   "id": "fc8161f0",
   "metadata": {},
   "outputs": [],
   "source": [
    "S = np.abs(librosa.feature.melspectrogram(y=x, sr=Fs))\n",
    "extent=[frequencies[0], frequencies[-1], times[0], times[-1]]\n",
    "plt.imshow(X, cmap='gray_r', aspect='auto', origin='lower', extent=extent)\n",
    "\n",
    "frames = np.arange(S.shape[1])\n",
    "\n",
    "# Convert frame indices to time (in seconds)\n",
    "times = librosa.frames_to_time(frames)\n",
    "\n",
    "# The frequency vector can be obtained using the center frequencies of the Mel bands.\n",
    "mel_frequencies = librosa.core.mel_frequencies(n_mels=S.shape[0], fmin=0.0, fmax=Fs/2.0)\n",
    "\n",
    "# Print the time and frequency vectors\n",
    "#print(\"Time vector (in seconds):\", times)\n",
    "#print(\"Mel frequencies vector (in Hz):\", mel_frequencies)\n",
    "\n",
    "s = sonify_spectrogram_multi(S, mel_frequencies, times, num_processes = 4)\n",
    "ipd.display(ipd.Audio(s, rate = Fs))"
   ]
  }
 ],
 "metadata": {
  "kernelspec": {
   "display_name": "Python 3 (ipykernel)",
   "language": "python",
   "name": "python3"
  },
  "language_info": {
   "codemirror_mode": {
    "name": "ipython",
    "version": 3
   },
   "file_extension": ".py",
   "mimetype": "text/x-python",
   "name": "python",
   "nbconvert_exporter": "python",
   "pygments_lexer": "ipython3",
   "version": "3.8.17"
  }
 },
 "nbformat": 4,
 "nbformat_minor": 5
}
