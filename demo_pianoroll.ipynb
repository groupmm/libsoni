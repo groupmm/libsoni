{
 "cells": [
  {
   "cell_type": "markdown",
   "id": "0",
   "metadata": {},
   "source": [
    "## Sonification of Piano Rolls\n",
    "Another symbolic music representation is often referred to as piano roll representation. Within these representations, note events are described by different attributes: **start**, **duration**, **pitch**, **velocity** and **label**. In this notebook we illustrate the sonification of piano rolls usting the ```libsoni.core.pianoroll``` module."
   ]
  },
  {
   "cell_type": "code",
   "execution_count": null,
   "id": "1",
   "metadata": {},
   "outputs": [],
   "source": [
    "import numpy as np\n",
    "import pandas as pd\n",
    "import os\n",
    "import librosa\n",
    "from IPython import display as ipd\n",
    "\n",
    "import libsoni\n",
    "\n",
    "Fs = 22050"
   ]
  },
  {
   "cell_type": "markdown",
   "id": "2",
   "metadata": {},
   "source": [
    "## Simple Scenario: C Major Triad\n",
    "\n",
    "To start with a simple example, let's look at a **C major triad**.\n",
    "<img src=\"figures/demo_f0/C-Dur-DM.png\" alt=\"C-Major-Triad\" width=\"250\">\n",
    "The pitches of the corresponding to the notes are:\n",
    "\n",
    "| Note |      Pitch     |\n",
    "|------|----------------|\n",
    "| C4   |       60       |\n",
    "| E4   |       64       |\n",
    "| G4   |       67       |\n",
    "| C5   |       72       |"
   ]
  },
  {
   "cell_type": "markdown",
   "id": "3",
   "metadata": {},
   "source": [
    "### Creating a Piano Roll\n",
    "In order to obtain a piano roll representation of the notes of the C major triad shown above, we have to define the temporal properties of the notes by their starting points and durations. Let's choose the note **C4** to be played at 0.25 seconds and the following notes each for one second after the preceding start. All notes should be played for 0.8 seconds.\n",
    "For the pitches, we adopt the column from the table above, and we set the velocity to 1. The attribute **label** is useful in a context, where different note events come from different instruments, so we omit this in our simple scenario for the moment."
   ]
  },
  {
   "cell_type": "code",
   "execution_count": null,
   "id": "4",
   "metadata": {},
   "outputs": [],
   "source": [
    "cmaj_time_positions = [0.25, 1.25, 2.25, 3.25]\n",
    "cmaj_durations = [0.8, 0.8, 0.8, 0.8]\n",
    "cmaj_pitches = [60, 64, 67, 72]\n",
    "cmaj_velocities = [1.0, 1.0, 1.0, 1.0]\n",
    "\n",
    "c_maj_df = pd.DataFrame({'start': cmaj_time_positions,\n",
    "                         'duration': cmaj_durations,\n",
    "                         'pitch': cmaj_pitches,\n",
    "                         'velocity': cmaj_velocities,\n",
    "                         'label': 'piano'})\n",
    "ipd.display(c_maj_df)\n",
    "\n",
    "libsoni.utils.visualize_pianoroll(c_maj_df, title='Piano Roll: C Major Triad');"
   ]
  },
  {
   "cell_type": "markdown",
   "id": "5",
   "metadata": {},
   "source": [
    "### Sonification of Piano Rolls\n",
    "For sonifying piano roll representations, the ```libsoni.core.pianoroll``` module offers different methods. For the beginning, we sonify the piano roll example above using so-called **additive synthesis**."
   ]
  },
  {
   "cell_type": "code",
   "execution_count": null,
   "id": "6",
   "metadata": {},
   "outputs": [],
   "source": [
    "# Sonification using libsoni\n",
    "sonified_cmaj_as = libsoni.sonify_pianoroll_additive_synthesis(pianoroll_df=c_maj_df)\n",
    "\n",
    "print('Sonified Piano Roll Representation of C Major Triad:')\n",
    "ipd.display(ipd.Audio(sonified_cmaj_as, rate=Fs))"
   ]
  },
  {
   "cell_type": "markdown",
   "id": "7",
   "metadata": {},
   "source": [
    "### A more Interesting but still Simple Scenario\n",
    "Let's make the above example a little more interesting, and vary the lengths and velocities of the notes."
   ]
  },
  {
   "cell_type": "code",
   "execution_count": null,
   "id": "8",
   "metadata": {},
   "outputs": [],
   "source": [
    "c_maj_modified_df = c_maj_df.copy()\n",
    "c_maj_modified_df['velocity'] = [0.2, 0.4, 0.6, 0.8]\n",
    "c_maj_modified_df['duration'] = [0.8, 0.6, 0.4, 0.2]\n",
    "\n",
    "# Sonification using libsoni\n",
    "sonified_cmaj_modified_as = libsoni.sonify_pianoroll_additive_synthesis(pianoroll_df=c_maj_modified_df)\n",
    "\n",
    "print('Sonified Modified Piano Roll Representation of C Major Triad:')\n",
    "ipd.display(ipd.Audio(sonified_cmaj_modified_as, rate=Fs))\n",
    "libsoni.utils.visualize_pianoroll(c_maj_modified_df, title='Modifed Piano Roll: C Major Triad');"
   ]
  },
  {
   "cell_type": "markdown",
   "id": "9",
   "metadata": {},
   "source": [
    "### Customizing the Sonification - Additive Synthesis\n",
    "In order to change the sonification tonally, so-called partials as well as their amplitudes can be specified. Let's say we want to use the fundamental frequency (1) as well as two times, three times and four times the fundamental frequency as partials for sonification. For the amplitudes we want to set 1, 1/2, 1/3, 1/4.\n",
    "\n",
    "| Partials           | Amplitudes       |\n",
    "|--------------------|------------------|\n",
    "| 1                  | 1                |\n",
    "| 2                  | 1/2              |\n",
    "| 3                  | 1/3              |\n",
    "| 4                  | 1/4              |"
   ]
  },
  {
   "cell_type": "code",
   "execution_count": null,
   "id": "10",
   "metadata": {},
   "outputs": [],
   "source": [
    "partials = [1, 2, 3, 4]\n",
    "amplitudes_partials = [1, 1/2, 1/3, 1/4] \n",
    "\n",
    "print('Sonified C Major Scale with Additive Synthesis:')\n",
    "ipd.display(ipd.Audio(sonified_cmaj_modified_as, rate=Fs))\n",
    "\n",
    "\n",
    "sonified_cmaj_modified_as_modified = libsoni.sonify_pianoroll_additive_synthesis(\n",
    "    pianoroll_df=c_maj_modified_df,\n",
    "    partials=[1, 2, 3],\n",
    "    partials_amplitudes=[0.5, 0.25, 0.25]\n",
    ")\n",
    "print('Sonified C Major Scale with Additive Synthesis, using different partials:')\n",
    "ipd.display(ipd.Audio(sonified_cmaj_modified_as_modified, rate=Fs))"
   ]
  },
  {
   "cell_type": "markdown",
   "id": "11",
   "metadata": {},
   "source": [
    "### Customizing the Sonification - Frequency Modulation Synthesis\n",
    "Another method for sonification is based on so-called frequency modulation (FM) synthesis. In this synthesis method, the sound is shaped by two parameters: the modulation frequency and the modulation index. For a detailed explanation of the synthesis, please refer to X. In the following we show a few examples for different parameters."
   ]
  },
  {
   "cell_type": "code",
   "execution_count": null,
   "id": "12",
   "metadata": {},
   "outputs": [],
   "source": [
    "# Define different FM Synthesis parameters\n",
    "mod_rates_relative = [0.5, 1, 2, 3]\n",
    "mod_amps = [0.5, 2, 4, 10]\n",
    "\n",
    "for mod_rate_relative, mod_amp in zip(mod_rates_relative, mod_amps):\n",
    "\n",
    "    sonified_cmaj_fm = libsoni.sonify_pianoroll_fm_synthesis(pianoroll_df=c_maj_modified_df,\n",
    "                                                             mod_rate_relative=mod_rate_relative,\n",
    "                                                             mod_amp=mod_amp)\n",
    "    print(f'Sonified C Major Scale with FM-Synthesis using Relative Modulation Rate: {mod_rate_relative} and Modulation Amplitude: {mod_amp}:')\n",
    "    ipd.display(ipd.Audio(sonified_cmaj_fm, rate=Fs))"
   ]
  },
  {
   "cell_type": "markdown",
   "id": "13",
   "metadata": {},
   "source": [
    "### Sonification of Piano Rolls using Samples\n",
    "We can also use an audio sample for the sonification."
   ]
  },
  {
   "cell_type": "code",
   "execution_count": null,
   "id": "14",
   "metadata": {},
   "outputs": [],
   "source": [
    "piano_sample, _ = librosa.load(os.path.join('data_audio','samples','01Pia1F060f_np___0_short.wav'))\n",
    "\n",
    "sonified_cmaj_fm = libsoni.sonify_pianoroll_sample(pianoroll_df=c_maj_modified_df, sample=piano_sample, reference_pitch=60)\n",
    "                                                     \n",
    "print(f'Sonified C Major Scale with Warped Sample:')\n",
    "ipd.display(ipd.Audio(sonified_cmaj_fm, rate=Fs))"
   ]
  },
  {
   "cell_type": "markdown",
   "id": "15",
   "metadata": {},
   "source": [
    "### Sonification of Piano Rolls using Colored Clicks\n",
    "We can also use colored clicks for the sonification. In case only the onsets of the notes should be sonified, in other words, the pitch, duration and velocity information should be omitted, we can use the ```sonify_tse_clicks```function from ```libsoni.core.tse```."
   ]
  },
  {
   "cell_type": "code",
   "execution_count": null,
   "id": "16",
   "metadata": {},
   "outputs": [],
   "source": [
    "libsoni.utils.visualize_pianoroll(c_maj_modified_df, title='Piano Roll: C Major Triad');\n",
    "\n",
    "sonified_cmaj_clicks_onsets_only = libsoni.sonify_tse_clicks(time_positions=c_maj_modified_df['start'].to_numpy())\n",
    "print('Sonified Onsets with clicks:')\n",
    "ipd.display(ipd.Audio(sonified_cmaj_clicks_onsets_only, rate=Fs))\n",
    "\n",
    "\n",
    "sonified_cmaj_clicks = libsoni.sonify_pianoroll_clicks(pianoroll_df=c_maj_modified_df)\n",
    "print('Sonified C Major Scale with clicks:')\n",
    "ipd.display(ipd.Audio(sonified_cmaj_clicks, rate=Fs))"
   ]
  },
  {
   "cell_type": "markdown",
   "id": "17",
   "metadata": {},
   "source": [
    "### Combining Sonifications\n",
    "We can also combine different sonifications, like clicks and additive synthesis:"
   ]
  },
  {
   "cell_type": "code",
   "execution_count": null,
   "id": "18",
   "metadata": {},
   "outputs": [],
   "source": [
    "cmaj_additive = libsoni.sonify_pianoroll_additive_synthesis(pianoroll_df=c_maj_modified_df,\n",
    "                                                            partials=[0.5, 1, 2],\n",
    "                                                            partials_amplitudes=[0.33, 0.66, 0.33])\n",
    "\n",
    "cmaj_clicks = libsoni.sonify_pianoroll_clicks(pianoroll_df=c_maj_modified_df)\n",
    "\n",
    "print('Sonification using additive synthesis and clicks')\n",
    "ipd.display(ipd.Audio(cmaj_additive + cmaj_clicks*10, rate=Fs))"
   ]
  },
  {
   "cell_type": "markdown",
   "id": "19",
   "metadata": {},
   "source": [
    "## Scenario: *Bach Fugue in C Major*, BWV 846, by *J. S. Bach*\n",
    "The Fugue in C Major, BWV 846, by Johann Sebastian Bach presents a concise theme that winds through various voices, creating overlapping and interweaving textures. In the following scenario, we get the piano roll representation by an annotation file and sonify it with various methods as shown above."
   ]
  },
  {
   "cell_type": "code",
   "execution_count": null,
   "id": "20",
   "metadata": {},
   "outputs": [],
   "source": [
    "bach_df = pd.read_csv(os.path.join('data_csv',\n",
    "                                   'demo_pianoroll',\n",
    "                                   'FMP_C1_F12_Bach_BWV846_Sibelius-Tracks.csv'),delimiter=';')\n",
    "\n",
    "bach_audio, _ = librosa.load(os.path.join('data_audio',\n",
    "                                          'demo_pianoroll',\n",
    "                                          'FMP_C1_F12_Bach_BWV846_Sibelius-Tracks.wav'))\n",
    "\n",
    "libsoni.utils.visualize_pianoroll(bach_df,\n",
    "                                  figsize=(10, 7),\n",
    "                                  colors='gist_rainbow',\n",
    "                                  title='Piano Roll: Fugue in C Major, J. S. Bach');\n",
    "\n",
    "# Additive Synthesis\n",
    "print('Sonified with Additive Synthesis:')\n",
    "\n",
    "sonified_bach_as = libsoni.sonify_pianoroll_additive_synthesis(pianoroll_df=bach_df,\n",
    "                                                               partials=[1, 2, 3],\n",
    "                                                               partials_amplitudes=[0.5, 0.25, 0.25])\n",
    "\n",
    "sonified_bach_as_w_original = libsoni.utils.mix_sonification_and_original(sonification=sonified_bach_as,\n",
    "                                                                          original_audio=bach_audio,\n",
    "                                                                          gain_lin_original_audio=0.25,\n",
    "                                                                          panning=0)\n",
    "\n",
    "\n",
    "ipd.display(ipd.Audio(sonified_bach_as_w_original, rate=Fs))\n",
    "\n",
    "# Frequency Modulation Synthesis\n",
    "print('Sonified with Frequency Modulation Synthesis:')\n",
    "\n",
    "sonified_bach_fm = libsoni.sonify_pianoroll_fm_synthesis(pianoroll_df=bach_df,\n",
    "                                                         mod_rate_relative=2,\n",
    "                                                         mod_amp=1)\n",
    "\n",
    "sonified_bach_fm_w_original = libsoni.utils.mix_sonification_and_original(sonification=sonified_bach_fm,\n",
    "                                                                          original_audio=bach_audio,\n",
    "                                                                          gain_lin_original_audio=0.25,\n",
    "                                                                          panning=0)\n",
    "\n",
    "\n",
    "ipd.display(ipd.Audio(sonified_bach_fm_w_original, rate=Fs))\n",
    "\n",
    "# Colored Clicks\n",
    "print('Sonified with Colored Clicks:')\n",
    "\n",
    "sonification_bach_clicks = libsoni.sonify_pianoroll_clicks(pianoroll_df=bach_df)\n",
    "\n",
    "sonified_bach_clicks_w_original = libsoni.utils.mix_sonification_and_original(\n",
    "    sonification=sonification_bach_clicks,\n",
    "    original_audio=bach_audio,\n",
    "    gain_lin_original_audio=0.25,\n",
    "    panning=0\n",
    ")\n",
    "\n",
    "\n",
    "ipd.display(ipd.Audio(sonified_bach_clicks_w_original, rate=Fs))\n",
    "\n",
    "# Clicks and Frequency Modulation Synthesis\n",
    "print('Sonification using Frequency Modulation Synthesis and Colored Clicks:')\n",
    "\n",
    "sonified_bach_fm_clicks_w_original = libsoni.utils.mix_sonification_and_original(\n",
    "    sonification=sonified_bach_fm + sonification_bach_clicks,\n",
    "    original_audio=bach_audio,\n",
    "    gain_lin_original_audio=0.25,\n",
    "    panning=0\n",
    ")\n",
    "\n",
    "ipd.display(ipd.Audio(sonified_bach_fm_clicks_w_original, rate=Fs))\n",
    "\n",
    "# Samples\n",
    "print('Sonification using Samples:')\n",
    "\n",
    "sonification_bach_sample = libsoni.sonify_pianoroll_sample(pianoroll_df=bach_df, sample=piano_sample, reference_pitch=60)\n",
    "\n",
    "sonified_bach_sample_w_original = libsoni.utils.mix_sonification_and_original(\n",
    "    sonification=sonification_bach_sample,\n",
    "    original_audio=bach_audio,\n",
    "    gain_lin_original_audio=0.25,\n",
    "    panning=0\n",
    ")\n",
    "\n",
    "\n",
    "ipd.display(ipd.Audio(sonified_bach_sample_w_original, rate=Fs))\n"
   ]
  },
  {
   "cell_type": "markdown",
   "id": "21",
   "metadata": {},
   "source": [
    "## Scenario: *Frühlingstraum (Dream of Spring)* by *Franz Schubert*\n",
    "<img src=\"figures/demo_pianoroll/FMP_B_Sonify_Pitch_Schubert_D911-11_A.png\" alt=\"Frühlingstraum\" width=\"700\">"
   ]
  },
  {
   "cell_type": "code",
   "execution_count": null,
   "id": "22",
   "metadata": {},
   "outputs": [],
   "source": [
    "fruehlingstraum_df = pd.read_csv(os.path.join('data_csv',\n",
    "                                   'demo_pianoroll',\n",
    "                                   'FMP_B_Sonify_Pitch_Schubert_D911-11_SC06.csv'),delimiter=';')\n",
    "ipd.display(fruehlingstraum_df[:5])\n",
    "fruehlingstraum_audio, _ = librosa.load(os.path.join('data_audio',\n",
    "                                          'demo_pianoroll',\n",
    "                                          'FMP_B_Sonify_Pitch_Schubert_D911-11_SC06.wav'))\n",
    "\n",
    "libsoni.utils.visualize_pianoroll(fruehlingstraum_df, figsize=(10, 7), colors='gist_rainbow', title='Frühlingstraum by Franz Schubert');\n",
    "\n",
    "\n",
    "\n",
    "fruehlingstraum_sonified = libsoni.sonify_pianoroll_additive_synthesis(pianoroll_df=fruehlingstraum_df,\n",
    "                                                                       partials=[1, 2, 3],\n",
    "                                                                       partials_amplitudes=[0.5, 0.25, 0.25])\n",
    "\n",
    "fruehlingstraum_sonified_w_original = libsoni.utils.mix_sonification_and_original(\n",
    "    sonification=fruehlingstraum_sonified,\n",
    "    original_audio=fruehlingstraum_audio\n",
    ")\n",
    "\n",
    "print('Original Audio:')\n",
    "ipd.display(ipd.Audio(fruehlingstraum_audio, rate=Fs))\n",
    "\n",
    "print('Sonified with libsoni:')\n",
    "ipd.display(ipd.Audio(fruehlingstraum_sonified, rate=Fs))\n",
    "\n",
    "print('Sonification and Original Audio:')\n",
    "ipd.display(ipd.Audio(fruehlingstraum_sonified_w_original, rate=Fs))\n"
   ]
  },
  {
   "cell_type": "code",
   "execution_count": null,
   "id": "23",
   "metadata": {},
   "outputs": [],
   "source": []
  },
  {
   "cell_type": "code",
   "execution_count": null,
   "id": "24",
   "metadata": {},
   "outputs": [],
   "source": []
  }
 ],
 "metadata": {
  "kernelspec": {
   "display_name": "Python 3 (ipykernel)",
   "language": "python",
   "name": "python3"
  },
  "language_info": {
   "codemirror_mode": {
    "name": "ipython",
    "version": 3
   },
   "file_extension": ".py",
   "mimetype": "text/x-python",
   "name": "python",
   "nbconvert_exporter": "python",
   "pygments_lexer": "ipython3",
   "version": "3.11.10"
  }
 },
 "nbformat": 4,
 "nbformat_minor": 5
}
